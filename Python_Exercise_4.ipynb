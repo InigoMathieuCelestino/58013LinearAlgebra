{
  "nbformat": 4,
  "nbformat_minor": 0,
  "metadata": {
    "colab": {
      "provenance": [],
      "authorship_tag": "ABX9TyP+8oWwxOwaQe9fQpYWfVVY",
      "include_colab_link": true
    },
    "kernelspec": {
      "name": "python3",
      "display_name": "Python 3"
    },
    "language_info": {
      "name": "python"
    }
  },
  "cells": [
    {
      "cell_type": "markdown",
      "metadata": {
        "id": "view-in-github",
        "colab_type": "text"
      },
      "source": [
        "<a href=\"https://colab.research.google.com/github/InigoMathieuCelestino/58013LinearAlgebra/blob/main/Python_Exercise_4.ipynb\" target=\"_parent\"><img src=\"https://colab.research.google.com/assets/colab-badge.svg\" alt=\"Open In Colab\"/></a>"
      ]
    },
    {
      "cell_type": "markdown",
      "source": [
        "Vector Operations and Its Applications"
      ],
      "metadata": {
        "id": "IkEI1M-e4Kmx"
      }
    },
    {
      "cell_type": "code",
      "execution_count": null,
      "metadata": {
        "colab": {
          "base_uri": "https://localhost:8080/"
        },
        "id": "NZlmFCSN2lDl",
        "outputId": "3eea69cf-4741-420d-e2be-d1c035109669"
      },
      "outputs": [
        {
          "output_type": "stream",
          "name": "stdout",
          "text": [
            "Vector A is  [[-0.4]\n",
            " [ 4.3]\n",
            " [-0.6]]\n",
            "Vector B is  [ 0 20 21]\n",
            "Vector C is  [-0.22  1.   -1.5 ]\n"
          ]
        }
      ],
      "source": [
        "# Vectors\n",
        "\n",
        "import numpy as np\n",
        "A = np.array([[-0.4],[4.3],[-0.6]])\n",
        "B = np.array([-0, 20, 21])\n",
        "C = np.array([-0.22, 1, -1.5])\n",
        "\n",
        "print('Vector A is ', A)\n",
        "print('Vector B is ', B)\n",
        "print('Vector C is ', C)"
      ]
    },
    {
      "cell_type": "code",
      "source": [
        "# Vector Addition\n",
        "\n",
        "R = A + B + C\n",
        "print(R)"
      ],
      "metadata": {
        "colab": {
          "base_uri": "https://localhost:8080/"
        },
        "id": "0hZiYi20-SfH",
        "outputId": "85174c80-58fb-4904-99cb-d7b363ea8a6e"
      },
      "execution_count": null,
      "outputs": [
        {
          "output_type": "stream",
          "name": "stdout",
          "text": [
            "[[-0.62 20.6  19.1 ]\n",
            " [ 4.08 25.3  23.8 ]\n",
            " [-0.82 20.4  18.9 ]]\n"
          ]
        }
      ]
    },
    {
      "cell_type": "code",
      "source": [
        "# Vector Subtraction\n",
        "\n",
        "R = A - B - C\n",
        "print(R)"
      ],
      "metadata": {
        "id": "LwLXSvWV-siL",
        "colab": {
          "base_uri": "https://localhost:8080/"
        },
        "outputId": "7d42fef9-3ee5-4803-b3f6-0afe6e165baf"
      },
      "execution_count": 6,
      "outputs": [
        {
          "output_type": "stream",
          "name": "stdout",
          "text": [
            "[[ -0.18 -21.4  -19.9 ]\n",
            " [  4.52 -16.7  -15.2 ]\n",
            " [ -0.38 -21.6  -20.1 ]]\n"
          ]
        }
      ]
    },
    {
      "cell_type": "code",
      "source": [
        "# Vector Multiplication\n",
        "\n",
        "R = A * B * C\n",
        "print(R)"
      ],
      "metadata": {
        "colab": {
          "base_uri": "https://localhost:8080/"
        },
        "id": "-E1-WKbj_boX",
        "outputId": "77afbd1f-e442-49b2-d05f-b42e10d23d0d"
      },
      "execution_count": 7,
      "outputs": [
        {
          "output_type": "stream",
          "name": "stdout",
          "text": [
            "[[   0.     -8.     12.6 ]\n",
            " [  -0.     86.   -135.45]\n",
            " [   0.    -12.     18.9 ]]\n"
          ]
        }
      ]
    }
  ]
}