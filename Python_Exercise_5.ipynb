{
  "nbformat": 4,
  "nbformat_minor": 0,
  "metadata": {
    "colab": {
      "provenance": [],
      "authorship_tag": "ABX9TyP0ThXJqX2lfChmTLRmlwJE",
      "include_colab_link": true
    },
    "kernelspec": {
      "name": "python3",
      "display_name": "Python 3"
    },
    "language_info": {
      "name": "python"
    }
  },
  "cells": [
    {
      "cell_type": "markdown",
      "metadata": {
        "id": "view-in-github",
        "colab_type": "text"
      },
      "source": [
        "<a href=\"https://colab.research.google.com/github/InigoMathieuCelestino/58013LinearAlgebra/blob/main/Python_Exercise_5.ipynb\" target=\"_parent\"><img src=\"https://colab.research.google.com/assets/colab-badge.svg\" alt=\"Open In Colab\"/></a>"
      ]
    },
    {
      "cell_type": "markdown",
      "source": [
        "Vector Operations and Its Applications"
      ],
      "metadata": {
        "id": "4VaX1pOUDXXc"
      }
    },
    {
      "cell_type": "code",
      "execution_count": 5,
      "metadata": {
        "colab": {
          "base_uri": "https://localhost:8080/"
        },
        "id": "j3RJ-73BDTK3",
        "outputId": "93fb1734-60b5-4fb5-d437-2ea8853fa2c3"
      },
      "outputs": [
        {
          "output_type": "stream",
          "name": "stdout",
          "text": [
            "Scalar product is: [ 5 25 40 45]\n",
            "Scalar product is: [ 5 25 40 45]\n"
          ]
        }
      ],
      "source": [
        "# Scalar Product\n",
        "\n",
        "import numpy as np\n",
        "\n",
        "A = np.array([1,5,8,9])\n",
        "R1 = 5*A\n",
        "\n",
        "print('Scalar product is:', R1)\n",
        "\n",
        "S = np.array ([5])\n",
        "R2 = np.multiply(S,A)\n",
        "\n",
        "print('Scalar product is:', R2)"
      ]
    },
    {
      "cell_type": "code",
      "source": [
        "# Dot Product\n",
        "\n",
        "import numpy as np\n",
        "\n",
        "a = [5, 10, 2]\n",
        "b = [2, 4, 3]\n",
        "dotproduct = np.dot(a,b)\n",
        "\n",
        "print('Dot product is:', dotproduct)"
      ],
      "metadata": {
        "colab": {
          "base_uri": "https://localhost:8080/"
        },
        "id": "zz1eIdEUEMGd",
        "outputId": "bfb01cef-dfaa-47c7-9f51-2fcf3b421fbe"
      },
      "execution_count": 2,
      "outputs": [
        {
          "output_type": "stream",
          "name": "stdout",
          "text": [
            "Dot product is: 56\n"
          ]
        }
      ]
    },
    {
      "cell_type": "code",
      "source": [
        "# Cross Product\n",
        "\n",
        "import numpy as np\n",
        "\n",
        "p = [4, 2]\n",
        "q = [5, 6]\n",
        "product = np.cross(p,q)\n",
        "\n",
        "print('Cross product is:', product)"
      ],
      "metadata": {
        "colab": {
          "base_uri": "https://localhost:8080/"
        },
        "id": "E71LqQgsEejv",
        "outputId": "0d72d793-12c0-48d2-916a-0f29dcb698c3"
      },
      "execution_count": 6,
      "outputs": [
        {
          "output_type": "stream",
          "name": "stdout",
          "text": [
            "Cross product is: 14\n"
          ]
        }
      ]
    }
  ]
}