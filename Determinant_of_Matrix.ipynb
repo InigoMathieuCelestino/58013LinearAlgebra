{
  "nbformat": 4,
  "nbformat_minor": 0,
  "metadata": {
    "colab": {
      "provenance": [],
      "authorship_tag": "ABX9TyP3JPy+WQSWQbSQ5JoKcmV7",
      "include_colab_link": true
    },
    "kernelspec": {
      "name": "python3",
      "display_name": "Python 3"
    },
    "language_info": {
      "name": "python"
    }
  },
  "cells": [
    {
      "cell_type": "markdown",
      "metadata": {
        "id": "view-in-github",
        "colab_type": "text"
      },
      "source": [
        "<a href=\"https://colab.research.google.com/github/InigoMathieuCelestino/58013LinearAlgebra/blob/main/Determinant_of_Matrix.ipynb\" target=\"_parent\"><img src=\"https://colab.research.google.com/assets/colab-badge.svg\" alt=\"Open In Colab\"/></a>"
      ]
    },
    {
      "cell_type": "markdown",
      "source": [
        "Determinant of Matrix"
      ],
      "metadata": {
        "id": "sAMliRNQsnx5"
      }
    },
    {
      "cell_type": "code",
      "source": [
        "# Determinant of Matrix\n",
        "# 3x3 Matrix\n",
        "\n",
        "import numpy as np\n",
        "\n",
        "A = np.array([[1, 2, -1],[4, 6, -2],[-1, 3, 3]])\n",
        "print(A)\n",
        "round(np.linalg.det(A))"
      ],
      "metadata": {
        "colab": {
          "base_uri": "https://localhost:8080/"
        },
        "id": "DDPT1BwVsqHs",
        "outputId": "882b5073-d369-4128-90e8-e4e2ac0f66b2"
      },
      "execution_count": 3,
      "outputs": [
        {
          "output_type": "stream",
          "name": "stdout",
          "text": [
            "[[ 1  2 -1]\n",
            " [ 4  6 -2]\n",
            " [-1  3  3]]\n"
          ]
        },
        {
          "output_type": "execute_result",
          "data": {
            "text/plain": [
              "-14"
            ]
          },
          "metadata": {},
          "execution_count": 3
        }
      ]
    }
  ]
}