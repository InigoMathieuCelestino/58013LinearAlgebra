{
  "nbformat": 4,
  "nbformat_minor": 0,
  "metadata": {
    "colab": {
      "provenance": [],
      "authorship_tag": "ABX9TyM+H6S53RxvrfqiQQB+ycok",
      "include_colab_link": true
    },
    "kernelspec": {
      "name": "python3",
      "display_name": "Python 3"
    },
    "language_info": {
      "name": "python"
    }
  },
  "cells": [
    {
      "cell_type": "markdown",
      "metadata": {
        "id": "view-in-github",
        "colab_type": "text"
      },
      "source": [
        "<a href=\"https://colab.research.google.com/github/InigoMathieuCelestino/58013LinearAlgebra/blob/main/Special_Prelim_Exam.ipynb\" target=\"_parent\"><img src=\"https://colab.research.google.com/assets/colab-badge.svg\" alt=\"Open In Colab\"/></a>"
      ]
    },
    {
      "cell_type": "markdown",
      "source": [
        "SPECIAL PRELIM EXAM"
      ],
      "metadata": {
        "id": "8wI04qSkU1e4"
      }
    },
    {
      "cell_type": "code",
      "execution_count": 7,
      "metadata": {
        "colab": {
          "base_uri": "https://localhost:8080/"
        },
        "id": "sEo9jaO_UFW7",
        "outputId": "f4bd8a77-7653-4111-b1a5-3bb16d6911fd"
      },
      "outputs": [
        {
          "output_type": "stream",
          "name": "stdout",
          "text": [
            "[[  1   2   3   4   5   6   7   8   9  10]\n",
            " [  2   4   6   8  10  12  14  16  18  20]\n",
            " [  3   6   9  12  15  18  21  24  27  30]\n",
            " [  4   8  12  16  20  24  28  32  36  40]\n",
            " [  5  10  15  20  25  30  35  40  45  50]\n",
            " [  6  12  18  24  30  36  42  48  54  60]\n",
            " [  7  14  21  28  35  42  49  56  63  70]\n",
            " [  8  16  24  32  40  48  56  64  72  80]\n",
            " [  9  18  27  36  45  54  63  72  81  90]\n",
            " [ 10  20  30  40  50  60  70  80  90 100]]\n",
            "[[  3   6   9  12  15  18  21  24  27  30]\n",
            " [  6  12  18  24  30  36  42  48  54  60]\n",
            " [  9  18  27  36  45  54  63  72  81  90]\n",
            " [ 12  24  36  48  60  72  84  96 108 120]\n",
            " [ 15  30  45  60  75  90 105 120 135 150]\n",
            " [ 18  36  54  72  90 108 126 144 162 180]\n",
            " [ 21  42  63  84 105 126 147 168 189 210]\n",
            " [ 24  48  72  96 120 144 168 192 216 240]\n",
            " [ 27  54  81 108 135 162 189 216 243 270]\n",
            " [ 30  60  90 120 150 180 210 240 270 300]]\n"
          ]
        }
      ],
      "source": [
        "# Multiplication Table of 10\n",
        "\n",
        "import numpy as np\n",
        "\n",
        "def x_table(N):\n",
        "    R = np.arange(1, N+1)\n",
        "    return R * R[:, None]\n",
        "\n",
        "print(x_table(10))\n",
        "\n",
        "# Triple the values of each element\n",
        "\n",
        "print(x_table(10)*3)"
      ]
    },
    {
      "cell_type": "code",
      "source": [
        "# Square Matrix\n",
        "# Diagonal of 5's\n",
        "\n",
        "import numpy as np\n",
        "\n",
        "F = np.array([5, 5, 5, 5])\n",
        "R = np.diag(F)\n",
        "\n",
        "print(R)"
      ],
      "metadata": {
        "colab": {
          "base_uri": "https://localhost:8080/"
        },
        "id": "jGOJ-fkNV5FT",
        "outputId": "0f108085-9620-45b1-aec4-b6d9224cfa93"
      },
      "execution_count": 19,
      "outputs": [
        {
          "output_type": "stream",
          "name": "stdout",
          "text": [
            "[[5 0 0 0]\n",
            " [0 5 0 0]\n",
            " [0 0 5 0]\n",
            " [0 0 0 5]]\n"
          ]
        }
      ]
    },
    {
      "cell_type": "code",
      "source": [
        "# Matrix's Size, Shape and Dimension\n",
        "\n",
        "import numpy as np\n",
        "\n",
        "matrix = np.array([[1, 2, 3, 4],\n",
        "                   [5, 6, 7, 8],\n",
        "                   [9, 10, 11, 12]])\n",
        "print(matrix)\n",
        "\n",
        "# Shape\n",
        "\n",
        "S = np.shape(matrix)\n",
        "print(S)\n",
        "\n",
        "# Size\n",
        "\n",
        "SZ = np.size(matrix)\n",
        "print(SZ)\n",
        "\n",
        "# Dimension\n",
        "\n",
        "D = np.ndim(matrix)\n",
        "print(D)"
      ],
      "metadata": {
        "colab": {
          "base_uri": "https://localhost:8080/"
        },
        "id": "oSyoW96TWVOd",
        "outputId": "57ea4955-2f2f-42be-cc71-ff97c90df8f4"
      },
      "execution_count": 18,
      "outputs": [
        {
          "output_type": "stream",
          "name": "stdout",
          "text": [
            "[[ 1  2  3  4]\n",
            " [ 5  6  7  8]\n",
            " [ 9 10 11 12]]\n",
            "(3, 4)\n",
            "12\n",
            "2\n"
          ]
        }
      ]
    },
    {
      "cell_type": "code",
      "source": [
        "# Subtraction of two numpy arrays\n",
        "\n",
        "import numpy as np\n",
        "\n",
        "arrayOne = np.array([[5, 6, 9], [21, 18, 27]])\n",
        "arrayTwo = np.array([[15, 33, 24], [4, 7, 1]])\n",
        "\n",
        "SUB = np.subtract(arrayOne, arrayTwo)\n",
        "print(SUB)\n",
        "\n",
        "# Square each element\n",
        "\n",
        "SQ = np.square(SUB)\n",
        "print(SQ)"
      ],
      "metadata": {
        "colab": {
          "base_uri": "https://localhost:8080/"
        },
        "id": "mXinELTfXBZU",
        "outputId": "3753c1f5-0579-46fb-ed1f-eac165646491"
      },
      "execution_count": 25,
      "outputs": [
        {
          "output_type": "stream",
          "name": "stdout",
          "text": [
            "[[-10 -27 -15]\n",
            " [ 17  11  26]]\n",
            "[[100 729 225]\n",
            " [289 121 676]]\n"
          ]
        }
      ]
    }
  ]
}