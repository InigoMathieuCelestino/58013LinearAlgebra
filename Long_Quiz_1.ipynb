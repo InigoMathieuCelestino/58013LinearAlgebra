{
  "nbformat": 4,
  "nbformat_minor": 0,
  "metadata": {
    "colab": {
      "provenance": [],
      "authorship_tag": "ABX9TyPTj8ndcIYs3i2oI83MWgXp",
      "include_colab_link": true
    },
    "kernelspec": {
      "name": "python3",
      "display_name": "Python 3"
    },
    "language_info": {
      "name": "python"
    }
  },
  "cells": [
    {
      "cell_type": "markdown",
      "metadata": {
        "id": "view-in-github",
        "colab_type": "text"
      },
      "source": [
        "<a href=\"https://colab.research.google.com/github/InigoMathieuCelestino/58013LinearAlgebra/blob/main/Long_Quiz_1.ipynb\" target=\"_parent\"><img src=\"https://colab.research.google.com/assets/colab-badge.svg\" alt=\"Open In Colab\"/></a>"
      ]
    },
    {
      "cell_type": "markdown",
      "source": [
        "PROBLEM 1"
      ],
      "metadata": {
        "id": "Bg6hQ08BZy4v"
      }
    },
    {
      "cell_type": "code",
      "execution_count": 35,
      "metadata": {
        "colab": {
          "base_uri": "https://localhost:8080/"
        },
        "id": "j4Mgz2lgM2Ty",
        "outputId": "f9e37835-f00c-42fb-9860-d5b0c4cb5f5d"
      },
      "outputs": [
        {
          "output_type": "stream",
          "name": "stdout",
          "text": [
            "[[1 2 3]\n",
            " [4 5 6]]\n",
            "[[1 2]\n",
            " [3 4]\n",
            " [5 6]]\n",
            "[[22, 28], [49, 64]]\n"
          ]
        }
      ],
      "source": [
        "# Matrix Multiplied By A Matrix\n",
        "\n",
        "# Matrix 2X3\n",
        "import numpy as np\n",
        "A = np.array([[1, 2, 3], [4, 5, 6]])\n",
        "print(A)\n",
        "\n",
        "# Matrix 3X2\n",
        "B = np.array([[1, 2],[3, 4],[5, 6]])\n",
        "print(B)\n",
        "\n",
        "R = [[sum(a * b for a, b in zip(A_row, B_col))\n",
        "                        for B_col in zip(*B)]\n",
        "                                for A_row in A]\n",
        "print(R)"
      ]
    },
    {
      "cell_type": "code",
      "source": [
        "# Vector Addition\n",
        "import numpy as np\n",
        "D1 = np.array([[1, 2],[3, 4]])\n",
        "print(D1)\n",
        "D2 = np.array([[1, 2],[3, 4]])\n",
        "print(D2)\n",
        "\n",
        "R = D1 + D2\n",
        "print(R)"
      ],
      "metadata": {
        "colab": {
          "base_uri": "https://localhost:8080/"
        },
        "id": "0panKwg5WAQi",
        "outputId": "182eafbb-be99-4a6e-9576-dc574e79d84d"
      },
      "execution_count": 34,
      "outputs": [
        {
          "output_type": "stream",
          "name": "stdout",
          "text": [
            "[[1 2]\n",
            " [3 4]]\n",
            "[[1 2]\n",
            " [3 4]]\n",
            "[[2 4]\n",
            " [6 8]]\n"
          ]
        }
      ]
    },
    {
      "cell_type": "code",
      "source": [
        "# Matrix Multiplied By A Single Integer\n",
        "\n",
        "import numpy as np\n",
        "C = np.array ([[1, 2, 3], [4, 5, 6],[7, 8, 9]])\n",
        "print(C)\n",
        "\n",
        "R = 2 * C\n",
        "print(R)"
      ],
      "metadata": {
        "colab": {
          "base_uri": "https://localhost:8080/"
        },
        "id": "xPXhcz6yWttQ",
        "outputId": "9abc23fa-162c-4086-b41a-06f57855436e"
      },
      "execution_count": 33,
      "outputs": [
        {
          "output_type": "stream",
          "name": "stdout",
          "text": [
            "[[1 2 3]\n",
            " [4 5 6]\n",
            " [7 8 9]]\n",
            "[[ 2  4  6]\n",
            " [ 8 10 12]\n",
            " [14 16 18]]\n"
          ]
        }
      ]
    },
    {
      "cell_type": "markdown",
      "source": [
        "PROBLEM 2"
      ],
      "metadata": {
        "id": "vn9ozTPUZ4Nh"
      }
    },
    {
      "cell_type": "code",
      "source": [
        "# Cross Product Of Matrices\n",
        "\n",
        "import numpy as np\n",
        "A = np.array ([2,7,4])\n",
        "B = np.array ([[3],[9],[8]])\n",
        "\n",
        "R = A * B\n",
        "print(R)"
      ],
      "metadata": {
        "colab": {
          "base_uri": "https://localhost:8080/"
        },
        "id": "pz5DNtMiYM9T",
        "outputId": "737671e3-f3d2-4590-c2aa-40ebe97156b9"
      },
      "execution_count": 32,
      "outputs": [
        {
          "output_type": "stream",
          "name": "stdout",
          "text": [
            "[[ 6 21 12]\n",
            " [18 63 36]\n",
            " [16 56 32]]\n"
          ]
        }
      ]
    }
  ]
}