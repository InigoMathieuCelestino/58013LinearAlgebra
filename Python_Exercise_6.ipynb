{
  "nbformat": 4,
  "nbformat_minor": 0,
  "metadata": {
    "colab": {
      "provenance": [],
      "authorship_tag": "ABX9TyNMc1YmtUbf/BDPrmHKf8d9",
      "include_colab_link": true
    },
    "kernelspec": {
      "name": "python3",
      "display_name": "Python 3"
    },
    "language_info": {
      "name": "python"
    }
  },
  "cells": [
    {
      "cell_type": "markdown",
      "metadata": {
        "id": "view-in-github",
        "colab_type": "text"
      },
      "source": [
        "<a href=\"https://colab.research.google.com/github/InigoMathieuCelestino/58013LinearAlgebra/blob/main/Python_Exercise_6.ipynb\" target=\"_parent\"><img src=\"https://colab.research.google.com/assets/colab-badge.svg\" alt=\"Open In Colab\"/></a>"
      ]
    },
    {
      "cell_type": "markdown",
      "source": [
        "Multidimensional Vectors"
      ],
      "metadata": {
        "id": "ny__qPzoGYlt"
      }
    },
    {
      "cell_type": "code",
      "execution_count": 7,
      "metadata": {
        "colab": {
          "base_uri": "https://localhost:8080/"
        },
        "id": "xrMrOjGkGXsc",
        "outputId": "3c1e0241-4cdc-4fb6-f454-c305cac8c381"
      },
      "outputs": [
        {
          "output_type": "stream",
          "name": "stdout",
          "text": [
            "[[2, 4, 6, 8, 10], [3, 6, 9, 12, 15], [4, 8, 12, 16, 20]]\n"
          ]
        }
      ],
      "source": [
        "# Python program to demonstrate printing\n",
        "# of complete multidimensional list\n",
        "\n",
        "A = [[2, 4, 6, 8, 10], [3, 6, 9, 12, 15], [4, 8, 12, 16, 20]]\n",
        "\n",
        "print(A)"
      ]
    },
    {
      "cell_type": "code",
      "source": [
        "# Python program to demonstrate printing\n",
        "# of complete multidimensional list row\n",
        "# by row.\n",
        "\n",
        "B = [[2, 4, 6, 8, 10], [3, 6, 9, 12, 15], [4, 8, 12, 16, 20]]\n",
        "for record in B:\n",
        "\n",
        "  print(record)"
      ],
      "metadata": {
        "colab": {
          "base_uri": "https://localhost:8080/"
        },
        "id": "TYmIvlpLG_fz",
        "outputId": "0523d312-99bf-44d0-bb20-9b32e669a430"
      },
      "execution_count": 6,
      "outputs": [
        {
          "output_type": "stream",
          "name": "stdout",
          "text": [
            "[2, 4, 6, 8, 10]\n",
            "[3, 6, 9, 12, 15]\n",
            "[4, 8, 12, 16, 20]\n"
          ]
        }
      ]
    },
    {
      "cell_type": "code",
      "source": [
        "# Python program to demonstrate that we\n",
        "# can access multidimensional list using\n",
        "# square brackets\n",
        "\n",
        "C = [ [2, 4, 6, 8 ],[ 1, 3, 5, 7 ],[ 8, 6, 4, 2 ],[ 7, 5, 3, 1 ] ]\n",
        "for i in range(len(C)) :\n",
        "  for j in range(len(C[i])) :\n",
        "\n",
        "    print(C[i][j], end=\" \")\n",
        "    print()"
      ],
      "metadata": {
        "colab": {
          "base_uri": "https://localhost:8080/"
        },
        "id": "jw4ilPyMHKPy",
        "outputId": "dc864207-a712-4645-a769-5f56410d3a30"
      },
      "execution_count": 5,
      "outputs": [
        {
          "output_type": "stream",
          "name": "stdout",
          "text": [
            "2 \n",
            "4 \n",
            "6 \n",
            "8 \n",
            "1 \n",
            "3 \n",
            "5 \n",
            "7 \n",
            "8 \n",
            "6 \n",
            "4 \n",
            "2 \n",
            "7 \n",
            "5 \n",
            "3 \n",
            "1 \n"
          ]
        }
      ]
    }
  ]
}