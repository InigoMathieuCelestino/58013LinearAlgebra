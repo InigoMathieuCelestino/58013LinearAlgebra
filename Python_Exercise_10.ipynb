{
  "nbformat": 4,
  "nbformat_minor": 0,
  "metadata": {
    "colab": {
      "provenance": [],
      "authorship_tag": "ABX9TyNs3c446wiLCUSRFkVdvb7F",
      "include_colab_link": true
    },
    "kernelspec": {
      "name": "python3",
      "display_name": "Python 3"
    },
    "language_info": {
      "name": "python"
    }
  },
  "cells": [
    {
      "cell_type": "markdown",
      "metadata": {
        "id": "view-in-github",
        "colab_type": "text"
      },
      "source": [
        "<a href=\"https://colab.research.google.com/github/InigoMathieuCelestino/58013LinearAlgebra/blob/main/Python_Exercise_10.ipynb\" target=\"_parent\"><img src=\"https://colab.research.google.com/assets/colab-badge.svg\" alt=\"Open In Colab\"/></a>"
      ]
    },
    {
      "cell_type": "markdown",
      "source": [
        "System of Linear Equations"
      ],
      "metadata": {
        "id": "ouXj0mPJsrBv"
      }
    },
    {
      "cell_type": "code",
      "execution_count": 2,
      "metadata": {
        "colab": {
          "base_uri": "https://localhost:8080/"
        },
        "id": "WO4YCqEKsqDW",
        "outputId": "fafb907b-d45f-4a78-9297-81a4bbee9c07"
      },
      "outputs": [
        {
          "output_type": "stream",
          "name": "stdout",
          "text": [
            "Price of flour per sack: 330.00 pesos\n",
            "Price of yeast per pack: 140.00 pesos\n",
            "Price of one piece of egg: 10.00 pesos\n"
          ]
        }
      ],
      "source": [
        "from sympy import symbols, Eq, solve\n",
        "\n",
        "# Define the variables\n",
        "\n",
        "x, y, z = symbols('flour_price yeast_price egg_price')\n",
        "\n",
        "# Define the equations based on the purchases for each month\n",
        "\n",
        "eq1 = Eq(30 * x + 10 * y + 120 * z, 12500)\n",
        "eq2 = Eq(40 * x + 20 * y + 200 * z, 18000)\n",
        "eq3 = Eq(50 * x + 40 * y + 360 * z, 25700)\n",
        "\n",
        "# Solve the equations to find the prices\n",
        "\n",
        "sol = solve((eq1, eq2, eq3), (x, y, z))\n",
        "\n",
        "# Extract the results\n",
        "\n",
        "flour_price = sol[x]\n",
        "yeast_price = sol[y]\n",
        "egg_price = sol[z]\n",
        "\n",
        "# Print the results\n",
        "\n",
        "print(f\"Price of flour per sack: {flour_price:.2f} pesos\")\n",
        "print(f\"Price of yeast per pack: {yeast_price:.2f} pesos\")\n",
        "print(f\"Price of one piece of egg: {egg_price:.2f} pesos\")"
      ]
    }
  ]
}