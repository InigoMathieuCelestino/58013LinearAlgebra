{
  "nbformat": 4,
  "nbformat_minor": 0,
  "metadata": {
    "colab": {
      "provenance": [],
      "authorship_tag": "ABX9TyPMEsg7fpH9PJgLfoV8wQ9f",
      "include_colab_link": true
    },
    "kernelspec": {
      "name": "python3",
      "display_name": "Python 3"
    },
    "language_info": {
      "name": "python"
    }
  },
  "cells": [
    {
      "cell_type": "markdown",
      "metadata": {
        "id": "view-in-github",
        "colab_type": "text"
      },
      "source": [
        "<a href=\"https://colab.research.google.com/github/InigoMathieuCelestino/58013LinearAlgebra/blob/main/Prelim_Exam.ipynb\" target=\"_parent\"><img src=\"https://colab.research.google.com/assets/colab-badge.svg\" alt=\"Open In Colab\"/></a>"
      ]
    },
    {
      "cell_type": "markdown",
      "source": [
        "PRELIM EXAM"
      ],
      "metadata": {
        "id": "3DIBW7jcwxjX"
      }
    },
    {
      "cell_type": "code",
      "execution_count": 3,
      "metadata": {
        "colab": {
          "base_uri": "https://localhost:8080/"
        },
        "id": "faRqrOIQwwdu",
        "outputId": "93b5cdfb-ab0a-4503-8ff6-8f29e919d5e1"
      },
      "outputs": [
        {
          "output_type": "stream",
          "name": "stdout",
          "text": [
            "[[  1   2   3   4   5   6   7   8   9  10]\n",
            " [  2   4   6   8  10  12  14  16  18  20]\n",
            " [  3   6   9  12  15  18  21  24  27  30]\n",
            " [  4   8  12  16  20  24  28  32  36  40]\n",
            " [  5  10  15  20  25  30  35  40  45  50]\n",
            " [  6  12  18  24  30  36  42  48  54  60]\n",
            " [  7  14  21  28  35  42  49  56  63  70]\n",
            " [  8  16  24  32  40  48  56  64  72  80]\n",
            " [  9  18  27  36  45  54  63  72  81  90]\n",
            " [ 10  20  30  40  50  60  70  80  90 100]]\n",
            "[[  2   4   6   8  10  12  14  16  18  20]\n",
            " [  4   8  12  16  20  24  28  32  36  40]\n",
            " [  6  12  18  24  30  36  42  48  54  60]\n",
            " [  8  16  24  32  40  48  56  64  72  80]\n",
            " [ 10  20  30  40  50  60  70  80  90 100]\n",
            " [ 12  24  36  48  60  72  84  96 108 120]\n",
            " [ 14  28  42  56  70  84  98 112 126 140]\n",
            " [ 16  32  48  64  80  96 112 128 144 160]\n",
            " [ 18  36  54  72  90 108 126 144 162 180]\n",
            " [ 20  40  60  80 100 120 140 160 180 200]]\n"
          ]
        }
      ],
      "source": [
        "# MULTIPLICATION TABLE OF 1-10\n",
        "\n",
        "import numpy as np\n",
        "\n",
        "def mult_table(N):\n",
        "    R = np.arange(1, N+1)\n",
        "    return R * R[:, None]\n",
        "\n",
        "print(mult_table(10))\n",
        "\n",
        "\n",
        "# DOUBLE THE VALUES OF EACH ELEMENT\n",
        "\n",
        "print(mult_table(10)*2)"
      ]
    },
    {
      "cell_type": "code",
      "source": [
        "# PROPERTY OF MATRIX\n",
        "# IDENTITY MATRIX\n",
        "# SQUARE MATRIX DIAGONAL 1's\n",
        "\n",
        "A = np.array([1, 1, 1, 1])\n",
        "D = np.diag(A)\n",
        "\n",
        "print(D)"
      ],
      "metadata": {
        "colab": {
          "base_uri": "https://localhost:8080/"
        },
        "id": "X49250kQyFIu",
        "outputId": "8bf1d62f-c213-4a94-f1ec-5c512baafd0c"
      },
      "execution_count": 16,
      "outputs": [
        {
          "output_type": "stream",
          "name": "stdout",
          "text": [
            "[[1 0 0 0]\n",
            " [0 1 0 0]\n",
            " [0 0 1 0]\n",
            " [0 0 0 1]]\n"
          ]
        }
      ]
    },
    {
      "cell_type": "code",
      "source": [
        "# MATRIX'S SHAPE, SIZE AND DIMENSION\n",
        "\n",
        "matrix = np.array([[1, 2, 3, 4],\n",
        "                   [5, 6, 7, 8],\n",
        "                   [9, 10, 11, 12]])\n",
        "print(matrix)\n",
        "\n",
        "# SHAPE\n",
        "\n",
        "S = np.shape(matrix)\n",
        "print(S)\n",
        "\n",
        "# SIZE\n",
        "\n",
        "SZ = np.size(matrix)\n",
        "print(SZ)\n",
        "\n",
        "# DIMENSION\n",
        "\n",
        "D = np.ndim(matrix)\n",
        "print(D)"
      ],
      "metadata": {
        "colab": {
          "base_uri": "https://localhost:8080/"
        },
        "id": "T-ZvKRoG1btb",
        "outputId": "2f7a953b-6a48-4979-d783-b34977a957ab"
      },
      "execution_count": 29,
      "outputs": [
        {
          "output_type": "stream",
          "name": "stdout",
          "text": [
            "[[ 1  2  3  4]\n",
            " [ 5  6  7  8]\n",
            " [ 9 10 11 12]]\n",
            "(3, 4)\n",
            "12\n",
            "2\n"
          ]
        }
      ]
    },
    {
      "cell_type": "code",
      "source": [
        "# ADDITION OF TWO NUMPY ARRAYS\n",
        "import numpy as np\n",
        "\n",
        "arrayOne = np.array([[5, 6, 9], [21,18, 27]])\n",
        "arrayTwo = np.array([[15,33, 24], [4,7, 1]])\n",
        "\n",
        "ADD = arrayOne + arrayTwo\n",
        "print (ADD)\n",
        "\n",
        "# SQUARE EACH ELEMENT\n",
        "\n",
        "SQ = ADD ** 2\n",
        "print(SQ)"
      ],
      "metadata": {
        "colab": {
          "base_uri": "https://localhost:8080/"
        },
        "id": "ZakAAzCj4X-y",
        "outputId": "dbf64f6a-7ad4-4197-c8c8-4a0706d0e6db"
      },
      "execution_count": 30,
      "outputs": [
        {
          "output_type": "stream",
          "name": "stdout",
          "text": [
            "[[20 39 33]\n",
            " [25 25 28]]\n",
            "[[ 400 1521 1089]\n",
            " [ 625  625  784]]\n"
          ]
        }
      ]
    }
  ]
}