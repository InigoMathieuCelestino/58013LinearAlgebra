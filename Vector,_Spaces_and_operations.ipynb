{
  "nbformat": 4,
  "nbformat_minor": 0,
  "metadata": {
    "colab": {
      "provenance": [],
      "authorship_tag": "ABX9TyNavaBTtug7TfdfD/aXRrRT",
      "include_colab_link": true
    },
    "kernelspec": {
      "name": "python3",
      "display_name": "Python 3"
    },
    "language_info": {
      "name": "python"
    }
  },
  "cells": [
    {
      "cell_type": "markdown",
      "metadata": {
        "id": "view-in-github",
        "colab_type": "text"
      },
      "source": [
        "<a href=\"https://colab.research.google.com/github/InigoMathieuCelestino/58013LinearAlgebra/blob/main/Vector%2C_Spaces_and_operations.ipynb\" target=\"_parent\"><img src=\"https://colab.research.google.com/assets/colab-badge.svg\" alt=\"Open In Colab\"/></a>"
      ]
    },
    {
      "cell_type": "code",
      "execution_count": 1,
      "metadata": {
        "colab": {
          "base_uri": "https://localhost:8080/"
        },
        "id": "ysYKfewgiCOs",
        "outputId": "0e97b59e-510b-432e-acad-711f128a1c8f"
      },
      "outputs": [
        {
          "output_type": "stream",
          "name": "stdout",
          "text": [
            "Vector A is  [4 3]\n",
            "Vector B is  [ 2 -5]\n"
          ]
        }
      ],
      "source": [
        "import numpy as np\n",
        "A = np.array([4,3])\n",
        "B = np.array([2,-5])\n",
        "\n",
        "print('Vector A is ', A)\n",
        "print('Vector B is ', B)"
      ]
    },
    {
      "cell_type": "code",
      "source": [
        "### Checking shapes\n",
        "### Shapes tells us how many rows and columns are there\n",
        "import numpy as np\n",
        "ball1 = np.array([[1],[2],[3]])\n",
        "ball2 = np.array([0,1,-1])\n",
        "print(ball1)\n",
        "print(ball2)\n",
        "ball = np.shape(ball1 + ball2)\n",
        "print(ball)"
      ],
      "metadata": {
        "colab": {
          "base_uri": "https://localhost:8080/"
        },
        "id": "l92E7IlqivDs",
        "outputId": "b3f75936-ede2-49cc-f182-403fd82eab77"
      },
      "execution_count": 25,
      "outputs": [
        {
          "output_type": "stream",
          "name": "stdout",
          "text": [
            "[[1]\n",
            " [2]\n",
            " [3]]\n",
            "[ 0  1 -1]\n",
            "(3, 3)\n"
          ]
        }
      ]
    },
    {
      "cell_type": "code",
      "source": [
        "### Checking shapes\n",
        "### Shapes tells us how many rows and columns are there\n",
        "import numpy as np\n",
        "ball1 = np.array([1,2,3])\n",
        "ball2 = np.array([0,1,-1])\n",
        "print(ball1)\n",
        "print(ball2)\n",
        "ball = np.shape(ball1)\n",
        "balls = np.shape(ball2)\n",
        "x = ball + balls\n",
        "print(x)"
      ],
      "metadata": {
        "colab": {
          "base_uri": "https://localhost:8080/"
        },
        "outputId": "da5458ba-d4e6-4512-ee83-542071905f11",
        "id": "shGP6LzFnqte"
      },
      "execution_count": 31,
      "outputs": [
        {
          "output_type": "stream",
          "name": "stdout",
          "text": [
            "[1 2 3]\n",
            "[ 0  1 -1]\n",
            "(3, 3)\n"
          ]
        }
      ]
    },
    {
      "cell_type": "code",
      "source": [
        "# Vector Addition\n",
        "import numpy as np\n",
        "A = np.array ([4,3])\n",
        "B = np.array ([2,-5])\n",
        "\n",
        "R = A + B\n",
        "print(R)"
      ],
      "metadata": {
        "colab": {
          "base_uri": "https://localhost:8080/"
        },
        "id": "AHNP2ZsqsLD_",
        "outputId": "aa6a80b8-0d3d-4395-871d-bf322e76b998"
      },
      "execution_count": 46,
      "outputs": [
        {
          "output_type": "stream",
          "name": "stdout",
          "text": [
            "[ 6 -2]\n"
          ]
        }
      ]
    },
    {
      "cell_type": "code",
      "source": [
        "# Vector Subtraction\n",
        "import numpy as np\n",
        "A = np.array ([4,3])\n",
        "B = np.array ([2,-5])\n",
        "\n",
        "R = A - B\n",
        "print(R)"
      ],
      "metadata": {
        "colab": {
          "base_uri": "https://localhost:8080/"
        },
        "outputId": "ccfc9429-63a3-41a6-b86e-111374c9a4ef",
        "id": "ZZyOTFAWt2T3"
      },
      "execution_count": 47,
      "outputs": [
        {
          "output_type": "stream",
          "name": "stdout",
          "text": [
            "[2 8]\n"
          ]
        }
      ]
    },
    {
      "cell_type": "code",
      "source": [
        "# Vector Multiplication\n",
        "import numpy as np\n",
        "A = np.array ([4,3])\n",
        "B = np.array ([2,-5])\n",
        "\n",
        "R = A * B\n",
        "print(R)"
      ],
      "metadata": {
        "colab": {
          "base_uri": "https://localhost:8080/"
        },
        "outputId": "d8834dde-0205-439a-900d-5c999ff8b7b2",
        "id": "8XC7rQTsuBhm"
      },
      "execution_count": 48,
      "outputs": [
        {
          "output_type": "stream",
          "name": "stdout",
          "text": [
            "[  8 -15]\n"
          ]
        }
      ]
    },
    {
      "cell_type": "code",
      "source": [
        "# Scalar Product\n",
        "import numpy as np\n",
        "A = np.array ([4,3])\n",
        "B = np.array ([2,-5])\n",
        "S = np.array ([2])\n",
        "R = S * A\n",
        "print(R)"
      ],
      "metadata": {
        "colab": {
          "base_uri": "https://localhost:8080/"
        },
        "outputId": "52cdcca8-d056-4893-c42f-aa6127fd2977",
        "id": "tPgRapbhuq6P"
      },
      "execution_count": 49,
      "outputs": [
        {
          "output_type": "stream",
          "name": "stdout",
          "text": [
            "[8 6]\n"
          ]
        }
      ]
    },
    {
      "cell_type": "code",
      "source": [
        "# Dot Product\n",
        "import numpy as np\n",
        "A = np.array ([4,3])\n",
        "B = np.array ([2,-5])\n",
        "R = A * B\n",
        "print(R)"
      ],
      "metadata": {
        "colab": {
          "base_uri": "https://localhost:8080/"
        },
        "outputId": "6a5883d4-9dd0-4b83-fc03-70b3de523c8d",
        "id": "7M8x9oQsvKXQ"
      },
      "execution_count": 52,
      "outputs": [
        {
          "output_type": "stream",
          "name": "stdout",
          "text": [
            "[  8 -15]\n"
          ]
        }
      ]
    },
    {
      "cell_type": "code",
      "source": [
        "# Cross Product\n",
        "import numpy as np\n",
        "A = np.array ([4,3])\n",
        "B = np.array ([[2],[-5]])\n",
        "R = A * B\n",
        "print(R)"
      ],
      "metadata": {
        "colab": {
          "base_uri": "https://localhost:8080/"
        },
        "outputId": "29c6b389-33ad-4456-be13-b9041c7d3e5c",
        "id": "ZMhKRCCdyLzY"
      },
      "execution_count": 53,
      "outputs": [
        {
          "output_type": "stream",
          "name": "stdout",
          "text": [
            "[[  8   6]\n",
            " [-20 -15]]\n"
          ]
        }
      ]
    },
    {
      "cell_type": "code",
      "source": [
        "# Property of Matrix\n",
        "# Identity Matrix\n",
        "e = np.eye(3,3)\n",
        "print (e)"
      ],
      "metadata": {
        "colab": {
          "base_uri": "https://localhost:8080/"
        },
        "outputId": "0c219134-c5e6-4ee7-bdda-b9389583a13f",
        "id": "R3E9KToOy2g4"
      },
      "execution_count": 65,
      "outputs": [
        {
          "output_type": "stream",
          "name": "stdout",
          "text": [
            "[[1. 0. 0.]\n",
            " [0. 1. 0.]\n",
            " [0. 0. 1.]]\n"
          ]
        }
      ]
    },
    {
      "cell_type": "code",
      "source": [
        "# Property of Matrix\n",
        "# Identity Matrix\n",
        "# Zero Matrix\n",
        "z = np.zeros([5,5])\n",
        "print (z)"
      ],
      "metadata": {
        "colab": {
          "base_uri": "https://localhost:8080/"
        },
        "outputId": "a153ed9c-cada-4e0c-f6fc-e8800d702fa4",
        "id": "9zkVyjX6zrgG"
      },
      "execution_count": 66,
      "outputs": [
        {
          "output_type": "stream",
          "name": "stdout",
          "text": [
            "[[0. 0. 0. 0. 0.]\n",
            " [0. 0. 0. 0. 0.]\n",
            " [0. 0. 0. 0. 0.]\n",
            " [0. 0. 0. 0. 0.]\n",
            " [0. 0. 0. 0. 0.]]\n"
          ]
        }
      ]
    },
    {
      "cell_type": "code",
      "source": [
        "# Property of Matrix\n",
        "# Identity Matrix\n",
        "# Full Matrix\n",
        "f = np.full([8,8],8)\n",
        "print (f)"
      ],
      "metadata": {
        "colab": {
          "base_uri": "https://localhost:8080/"
        },
        "outputId": "f28f23b6-661b-4dea-f301-bdf50fb82168",
        "id": "N1WJkVCp0bSR"
      },
      "execution_count": 67,
      "outputs": [
        {
          "output_type": "stream",
          "name": "stdout",
          "text": [
            "[[8 8 8 8 8 8 8 8]\n",
            " [8 8 8 8 8 8 8 8]\n",
            " [8 8 8 8 8 8 8 8]\n",
            " [8 8 8 8 8 8 8 8]\n",
            " [8 8 8 8 8 8 8 8]\n",
            " [8 8 8 8 8 8 8 8]\n",
            " [8 8 8 8 8 8 8 8]\n",
            " [8 8 8 8 8 8 8 8]]\n"
          ]
        }
      ]
    },
    {
      "cell_type": "code",
      "source": [
        "# Property of Matrix\n",
        "# Identity Matrix\n",
        "# Transpose Matrix\n",
        "a = np.array ([[5,3],[6,8]])\n",
        "t = np.transpose(a)\n",
        "print (a)"
      ],
      "metadata": {
        "colab": {
          "base_uri": "https://localhost:8080/"
        },
        "outputId": "239cd13c-dce2-44b2-f617-64d0ab63e63b",
        "id": "F_F__LMl0mt5"
      },
      "execution_count": 64,
      "outputs": [
        {
          "output_type": "stream",
          "name": "stdout",
          "text": [
            "[[5 3]\n",
            " [6 8]]\n"
          ]
        }
      ]
    }
  ]
}