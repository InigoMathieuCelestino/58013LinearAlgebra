{
  "nbformat": 4,
  "nbformat_minor": 0,
  "metadata": {
    "colab": {
      "provenance": [],
      "authorship_tag": "ABX9TyO/9XZt1NiTj6Ud+qIsU4sY",
      "include_colab_link": true
    },
    "kernelspec": {
      "name": "python3",
      "display_name": "Python 3"
    },
    "language_info": {
      "name": "python"
    }
  },
  "cells": [
    {
      "cell_type": "markdown",
      "metadata": {
        "id": "view-in-github",
        "colab_type": "text"
      },
      "source": [
        "<a href=\"https://colab.research.google.com/github/InigoMathieuCelestino/58013LinearAlgebra/blob/main/Python_Exercise_2.ipynb\" target=\"_parent\"><img src=\"https://colab.research.google.com/assets/colab-badge.svg\" alt=\"Open In Colab\"/></a>"
      ]
    },
    {
      "cell_type": "markdown",
      "source": [
        "Vector Representation using NumPy"
      ],
      "metadata": {
        "id": "54K5K8pfk-x3"
      }
    },
    {
      "cell_type": "code",
      "execution_count": 1,
      "metadata": {
        "colab": {
          "base_uri": "https://localhost:8080/"
        },
        "id": "2MhwdOx1kSXV",
        "outputId": "6b3f1131-cef8-404c-9e01-b3145c926510"
      },
      "outputs": [
        {
          "output_type": "stream",
          "name": "stdout",
          "text": [
            "-0.5\n"
          ]
        }
      ],
      "source": [
        "# Scalars\n",
        "\n",
        "import numpy as np\n",
        "\n",
        "x = np.array(-0.5)\n",
        "print(x)"
      ]
    },
    {
      "cell_type": "code",
      "source": [
        "# Vectors\n",
        "\n",
        "A = np.array([4,3])\n",
        "B = np.array([2, -5])\n",
        "\n",
        "print('Vector A is ', A)\n",
        "print('Vector B is ', B)"
      ],
      "metadata": {
        "colab": {
          "base_uri": "https://localhost:8080/"
        },
        "id": "mSAnMRJ9lUE6",
        "outputId": "d77e4d7c-088f-49c0-a677-8469f8b652ae"
      },
      "execution_count": 2,
      "outputs": [
        {
          "output_type": "stream",
          "name": "stdout",
          "text": [
            "Vector A is  [4 3]\n",
            "Vector B is  [ 2 -5]\n"
          ]
        }
      ]
    },
    {
      "cell_type": "code",
      "source": [
        "# Checking shapes\n",
        "# Shapes tells us how many rows and columns are there\n",
        "ball1 = np.array([1,2,3])\n",
        "ball2 = np.array([0,1,-1])\n",
        "\n",
        "U = np.array([[1, 2],[2, 3]])\n",
        "U1 = np.shape(U)\n",
        "print(U1)\n",
        "\n",
        "# Checking size\n",
        "# Array/Vector sizes tells us many total number of elements are there in the vector\n",
        "\n",
        "U2 = np.size(U)\n",
        "print(U2)\n",
        "\n",
        "# Checking dimensions\n",
        "# The dimensions or rank of a vector tells us how many dimensions are there for the vector\n",
        "\n",
        "U3 = np.ndim(U)\n",
        "print(U3)"
      ],
      "metadata": {
        "colab": {
          "base_uri": "https://localhost:8080/"
        },
        "id": "ubLI0o7ilcoA",
        "outputId": "1c4d4cdb-7cc8-4d2c-fc07-5b62f44677fb"
      },
      "execution_count": 12,
      "outputs": [
        {
          "output_type": "stream",
          "name": "stdout",
          "text": [
            "(2, 2)\n",
            "4\n",
            "2\n"
          ]
        }
      ]
    }
  ]
}