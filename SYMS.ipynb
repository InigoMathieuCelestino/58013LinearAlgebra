{
  "nbformat": 4,
  "nbformat_minor": 0,
  "metadata": {
    "colab": {
      "provenance": [],
      "authorship_tag": "ABX9TyPITByJtJX3fIWAcN7YT0wX",
      "include_colab_link": true
    },
    "kernelspec": {
      "name": "python3",
      "display_name": "Python 3"
    },
    "language_info": {
      "name": "python"
    }
  },
  "cells": [
    {
      "cell_type": "markdown",
      "metadata": {
        "id": "view-in-github",
        "colab_type": "text"
      },
      "source": [
        "<a href=\"https://colab.research.google.com/github/InigoMathieuCelestino/58013LinearAlgebra/blob/main/SYMS.ipynb\" target=\"_parent\"><img src=\"https://colab.research.google.com/assets/colab-badge.svg\" alt=\"Open In Colab\"/></a>"
      ]
    },
    {
      "cell_type": "code",
      "execution_count": 4,
      "metadata": {
        "colab": {
          "base_uri": "https://localhost:8080/"
        },
        "id": "ieR2ZOiV-vai",
        "outputId": "785572b1-9de8-404a-bf2d-04baae75b040"
      },
      "outputs": [
        {
          "output_type": "stream",
          "name": "stdout",
          "text": [
            "Equation 1:\n",
            "Eq(x + y + z, 5)\n",
            "Equation 2\n",
            "Eq(x + 2*y + 2*z, 6)\n",
            "Equation 3\n",
            "Values of 3 unknown variable are as follows:\n",
            "{x: 4, y: -1, z: 2}\n"
          ]
        }
      ],
      "source": [
        "from sympy import symbols, Eq, solve\n",
        "\n",
        "x, y, z = symbols('x,y,z')\n",
        "\n",
        "eq1 = Eq((x+y+z), 5)\n",
        "print(\"Equation 1:\")\n",
        "print(eq1)\n",
        "\n",
        "eq2 = Eq((x+2*y+2*z), 6)\n",
        "print(\"Equation 2\")\n",
        "print(eq2)\n",
        "\n",
        "eq3 = Eq((x+2*y+3*z), 8)\n",
        "print(\"Equation 3\")\n",
        "\n",
        "print(\"Values of 3 unknown variable are as follows:\")\n",
        "print(solve((eq1, eq2, eq3), (x, y, z)))"
      ]
    }
  ]
}