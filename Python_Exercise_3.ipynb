{
  "nbformat": 4,
  "nbformat_minor": 0,
  "metadata": {
    "colab": {
      "provenance": [],
      "authorship_tag": "ABX9TyOG0+0VF+bv9zuyK1/rSK1P",
      "include_colab_link": true
    },
    "kernelspec": {
      "name": "python3",
      "display_name": "Python 3"
    },
    "language_info": {
      "name": "python"
    }
  },
  "cells": [
    {
      "cell_type": "markdown",
      "metadata": {
        "id": "view-in-github",
        "colab_type": "text"
      },
      "source": [
        "<a href=\"https://colab.research.google.com/github/InigoMathieuCelestino/58013LinearAlgebra/blob/main/Python_Exercise_3.ipynb\" target=\"_parent\"><img src=\"https://colab.research.google.com/assets/colab-badge.svg\" alt=\"Open In Colab\"/></a>"
      ]
    },
    {
      "cell_type": "markdown",
      "source": [
        "Vector Operations\n"
      ],
      "metadata": {
        "id": "cLFv4AIqob1u"
      }
    },
    {
      "cell_type": "code",
      "execution_count": 15,
      "metadata": {
        "colab": {
          "base_uri": "https://localhost:8080/"
        },
        "id": "dS3wyWTJoU4K",
        "outputId": "ae2f2009-da7d-4242-d224-93904a3cbbac"
      },
      "outputs": [
        {
          "output_type": "stream",
          "name": "stdout",
          "text": [
            "[ 4  3 -1]\n",
            "[ 4  3 -2]\n",
            "2\n",
            "[-2  1  2]\n",
            "[-2  1  2]\n",
            "[3 2 0]\n",
            "[ 0.33333333  2.         -0.        ]\n",
            "[3. 1. 7.]\n",
            "[0 2 0]\n"
          ]
        }
      ],
      "source": [
        "# Vector Addition\n",
        "\n",
        "import numpy as np\n",
        "A = np.array([1,2,0])\n",
        "B = np.array([3,1,-2])\n",
        "C = np.array([0,0,1])\n",
        "\n",
        "R = A+B+C\n",
        "print(R)\n",
        "\n",
        "R2 = np.add(A,B,C)\n",
        "print(R2)\n",
        "\n",
        "R3 = np.sum(B)\n",
        "print(R3)\n",
        "\n",
        "# Vector Subtraction\n",
        "\n",
        "R4 = np.subtract(A,B)\n",
        "print(R4)\n",
        "\n",
        "R5 = A-B\n",
        "print(R5)\n",
        "\n",
        "# Vector Multiplication\n",
        "\n",
        "R6 = np.multiply(A,B)\n",
        "\n",
        "R7 = A*B\n",
        "print(R7)\n",
        "\n",
        "# Vector Division\n",
        "\n",
        "R8 = np.divide(A,B)\n",
        "\n",
        "R9 = A/B\n",
        "print(R9)\n",
        "\n",
        "C = np.array([3.9,1.8,7.7])\n",
        "D = np.array([1,1,1])\n",
        "\n",
        "R10 = C//D\n",
        "print(R10)\n",
        "\n",
        "R11 = np.array(A/B,dtype=int)\n",
        "print(R11)"
      ]
    }
  ]
}